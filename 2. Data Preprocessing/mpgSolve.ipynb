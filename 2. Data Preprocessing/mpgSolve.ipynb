{
 "cells": [
  {
   "cell_type": "code",
   "execution_count": 5,
   "metadata": {},
   "outputs": [
    {
     "name": "stdout",
     "output_type": "stream",
     "text": [
      "25.96319018404908\n",
      "18.07894736842105\n"
     ]
    }
   ],
   "source": [
    "import pandas as pd\n",
    "\n",
    "mpg = pd.read_csv('mpg.csv')\n",
    "car4 = mpg.query('displ <= 4')\n",
    "car5 = mpg.query('displ >= 5')\n",
    "\n",
    "print(car4['hwy'].mean())\n",
    "print(car5['hwy'].mean())"
   ]
  },
  {
   "cell_type": "code",
   "execution_count": 6,
   "metadata": {},
   "outputs": [
    {
     "name": "stdout",
     "output_type": "stream",
     "text": [
      "17.61111111111111\n",
      "18.529411764705884\n"
     ]
    }
   ],
   "source": [
    "import pandas as pd\n",
    "\n",
    "mpg = pd.read_csv('mpg.csv')\n",
    "\n",
    "audi = mpg.query('manufacturer == \"audi\"')\n",
    "toyota = mpg.query('manufacturer == \"toyota\"')\n",
    "\n",
    "print(audi['cty'].mean())\n",
    "print(toyota['cty'].mean())"
   ]
  },
  {
   "cell_type": "code",
   "execution_count": 12,
   "metadata": {},
   "outputs": [
    {
     "name": "stdout",
     "output_type": "stream",
     "text": [
      "22.50943396226415\n"
     ]
    }
   ],
   "source": [
    "import pandas as pd\n",
    "\n",
    "\n",
    "mpg = pd.read_csv('mpg.csv')\n",
    "\n",
    "avg = mpg.query('manufacturer in [\"chevrolet\", \"ford\", \"honda\"]')\n",
    "\n",
    "print(avg['hwy'].mean())"
   ]
  }
 ],
 "metadata": {
  "kernelspec": {
   "display_name": "Python 3",
   "language": "python",
   "name": "python3"
  },
  "language_info": {
   "codemirror_mode": {
    "name": "ipython",
    "version": 3
   },
   "file_extension": ".py",
   "mimetype": "text/x-python",
   "name": "python",
   "nbconvert_exporter": "python",
   "pygments_lexer": "ipython3",
   "version": "3.12.1"
  }
 },
 "nbformat": 4,
 "nbformat_minor": 2
}
